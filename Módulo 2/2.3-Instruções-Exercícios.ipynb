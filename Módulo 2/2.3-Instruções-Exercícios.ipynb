{
  "cells": [
    {
      "cell_type": "markdown",
      "metadata": {
        "id": "1pCTdOHonv5f"
      },
      "source": [
        "# Módulo 2\n",
        "\n",
        "## 2.3 Instruções e Expressões\n",
        "\n",
        "### Q1\n",
        "\n",
        "Faça um programa que armazene o valor de 20 reais de salário por hora de um trabalhador, e o número de 40 horas trabalhadas na semana. Com essas informações, calcule e imprima:\n",
        "- Salário semanal bruto\n",
        "- Valor descontado por semana INSS (10% do bruto)\n",
        "- Valor descontado por semana pelo sindicato (5% do bruto)\n",
        "- Salário semanal líquido (Bruto - Descontos)"
      ]
    },
    {
      "cell_type": "code",
      "execution_count": 10,
      "metadata": {
        "id": "hVbX0I97nj6M"
      },
      "outputs": [
        {
          "name": "stdout",
          "output_type": "stream",
          "text": [
            "O salário semanal bruto é de: 800\n",
            "O valor descontado por semana de INSS é de: 80.0\n",
            "O valor de desconto por semana do sindicato é de: 40.0\n",
            "O valor do salário semanal liquido é de 680.0\n"
          ]
        }
      ],
      "source": [
        "## Escreva e execute seu código aqui\n",
        "salario_por_hora = 20 \n",
        "hora_trabalhada_semana = 40 \n",
        "salario_semanal = salario_por_hora * hora_trabalhada_semana \n",
        "desconto_INSS = salario_semanal * 0.1\n",
        "desconto_sindicato = salario_semanal * 0.05\n",
        "print (\"O salário semanal bruto é de:\", salario_semanal)\n",
        "print (\"O valor descontado por semana de INSS é de:\",desconto_INSS)\n",
        "print (\"O valor de desconto por semana do sindicato é de:\", desconto_sindicato)\n",
        "print (\"O valor do salário semanal liquido é de\", salario_semanal - desconto_INSS - desconto_sindicato)\n"
      ]
    },
    {
      "cell_type": "markdown",
      "metadata": {
        "id": "pIxKX9J2oGZ1"
      },
      "source": [
        "### Q2\n",
        "\n",
        "Altere o programa anterior para a partir dos valores de horas trabalhadas por semana e salário por hora, calcular **em somente duas instruções**:\n",
        "- Salário semanal bruto\n",
        "- Salário semanal líquido com todos os descontos. Para a segunda instrução, realize todos os cálculos aritméticos em uma expressão composta.\n"
      ]
    },
    {
      "cell_type": "code",
      "execution_count": 27,
      "metadata": {
        "id": "pAHw9Xf9oGoi"
      },
      "outputs": [
        {
          "name": "stdout",
          "output_type": "stream",
          "text": [
            "O salário semanal bruto é de 800\n",
            "O salário semanal liquido é de 680.0\n"
          ]
        }
      ],
      "source": [
        "## Escreva e execute seu código aqui\n",
        "salario_por_hora = 20 \n",
        "hora_trabalhada_semana = 40 \n",
        "salario_mensal_bruto = salario_por_hora * hora_trabalhada_semana\n",
        "salario_liquido_semanal = salario_mensal_bruto - (salario_mensal_bruto * 0.1 + salario_mensal_bruto * 0.05)\n",
        "print (\"O salário semanal bruto é de\", salario_mensal_bruto)\n",
        "print (\"O salário semanal liquido é de\",salario_liquido_semanal)"
      ]
    },
    {
      "cell_type": "markdown",
      "metadata": {
        "id": "m8tlHRuWpBOB"
      },
      "source": [
        "### Q3\n",
        "\n",
        "Você está desenvolvendo um software de conversão de moeda e precisa calcular o valor equivalente em yuan chinês a partir de uma quantia em real. A taxa de câmbio é de 0.69 BRL (real) para 1 CNY (yuan). Escreva um programa que define em uma variável uma quantia em reais (BRL) e calcula o valor equivalente em yuan (CNY). Imprima o resultado."
      ]
    },
    {
      "cell_type": "code",
      "execution_count": 16,
      "metadata": {
        "id": "2bPw7uF6oeL9"
      },
      "outputs": [
        {
          "name": "stdout",
          "output_type": "stream",
          "text": [
            "O valor de 1000 reais, em yuans é de 1449.0\n"
          ]
        }
      ],
      "source": [
        "## Escreva e execute seu código aqui\n",
        "dinheiro_em_real = 1000\n",
        "conversão = 0.69\n",
        "dinheiro_em_yuan = dinheiro_em_real // conversão\n",
        "print (\"O valor de\", dinheiro_em_real, \"reais, em yuans é de\",dinheiro_em_yuan)\n",
        "\n"
      ]
    },
    {
      "cell_type": "markdown",
      "metadata": {
        "id": "-Na3ltDCp74A"
      },
      "source": [
        "### Q4\n",
        "\n",
        "Você é um treinador de corrida e deseja calcular a velocidade média que um atleta precisa manter para completar a Maratona Internacional de São Silvestre, que tem uma distância total de 42.195 km. A fórmula para calcular a velocidade média ($v\\_media$) é dada por $v\\_media = \\frac{distancia}{tempo}$ . Escreva um programa em Python para calcular a velocidade média necessária para completar a maratona em 3 horas.\n",
        "\n",
        "**Calcule e imprima o resultado em metros/segundo**, ou seja, converta a distância de quilômetros para metros ($metro = \\frac{km}{1000}$) e a velocidade de horas para segundos $(segundo = \\frac{hora}{3600})$."
      ]
    },
    {
      "cell_type": "code",
      "execution_count": 23,
      "metadata": {
        "id": "Bn6l8kcSrE4L"
      },
      "outputs": [
        {
          "name": "stdout",
          "output_type": "stream",
          "text": [
            "A velocidade media para completar a prova em 3 horas é de 3.0 m/s\n"
          ]
        }
      ],
      "source": [
        "## Escreva e execute seu código aqui\n",
        "Distancia_em_km = 42.195\n",
        "distancia_em_m = Distancia_em_km * 1000\n",
        "tempo_em_hora = 3\n",
        "tempo_min = tempo_em_hora * 3600\n",
        "v_media = distancia_em_m // tempo_min\n",
        "print (\"A velocidade media para completar a prova em 3 horas é de\", v_media,\"m/s\")\n",
        "\n"
      ]
    }
  ],
  "metadata": {
    "colab": {
      "provenance": []
    },
    "kernelspec": {
      "display_name": "Python 3",
      "name": "python3"
    },
    "language_info": {
      "codemirror_mode": {
        "name": "ipython",
        "version": 3
      },
      "file_extension": ".py",
      "mimetype": "text/x-python",
      "name": "python",
      "nbconvert_exporter": "python",
      "pygments_lexer": "ipython3",
      "version": "3.12.2"
    }
  },
  "nbformat": 4,
  "nbformat_minor": 0
}
